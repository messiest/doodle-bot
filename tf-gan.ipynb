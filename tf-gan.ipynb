{
 "cells": [
  {
   "cell_type": "markdown",
   "metadata": {},
   "source": [
    "From TFGAN tutorial, [here](https://github.com/tensorflow/models/blob/master/research/gan/tutorial.ipynb)."
   ]
  },
  {
   "cell_type": "code",
   "execution_count": null,
   "metadata": {},
   "outputs": [],
   "source": [
    "# os.chdir(path)"
   ]
  },
  {
   "cell_type": "code",
   "execution_count": 1,
   "metadata": {},
   "outputs": [],
   "source": [
    "# Make TFGAN models and TF-Slim models discoverable.\n",
    "import sys\n",
    "import os\n",
    "# This is needed since the notebook is stored in the `tensorflow/models/gan` folder.\n",
    "sys.path.append('/repos/models/')\n",
    "sys.path.append(os.path.join('..', 'slim'))"
   ]
  },
  {
   "cell_type": "code",
   "execution_count": 2,
   "metadata": {},
   "outputs": [
    {
     "name": "stdout",
     "output_type": "stream",
     "text": [
      "README.md             build_model.py        \u001b[34ms3\u001b[m\u001b[m\r\n",
      "Untitled.ipynb        conditional-gan.ipynb \u001b[34mstats\u001b[m\u001b[m\r\n",
      "\u001b[34m__pycache__\u001b[m\u001b[m           demo-notebook.ipynb   \u001b[34mtemplates\u001b[m\u001b[m\r\n",
      "\u001b[34madv_imagenet\u001b[m\u001b[m          downloader.py         tf-gan.ipynb\r\n",
      "app.py                get_images.py         tf_gan.py\r\n",
      "app.pyc               \u001b[34mimagenet\u001b[m\u001b[m              \u001b[34mwordnet\u001b[m\u001b[m\r\n",
      "\u001b[34massets\u001b[m\u001b[m                requirements.txt\r\n"
     ]
    }
   ],
   "source": [
    "! ls"
   ]
  },
  {
   "cell_type": "code",
   "execution_count": 4,
   "metadata": {},
   "outputs": [],
   "source": [
    "import adv_imagenet.imagenet as inet"
   ]
  },
  {
   "cell_type": "code",
   "execution_count": 8,
   "metadata": {},
   "outputs": [
    {
     "data": {
      "text/plain": [
       "_Feature((2, 5, 0, 'alpha', 1), (3, 0, 0, 'alpha', 0), 16384)"
      ]
     },
     "execution_count": 8,
     "metadata": {},
     "output_type": "execute_result"
    }
   ],
   "source": [
    "inet.absolute_import"
   ]
  },
  {
   "cell_type": "code",
   "execution_count": null,
   "metadata": {},
   "outputs": [],
   "source": []
  }
 ],
 "metadata": {
  "kernelspec": {
   "display_name": "Python 3",
   "language": "python",
   "name": "python3"
  },
  "language_info": {
   "codemirror_mode": {
    "name": "ipython",
    "version": 3
   },
   "file_extension": ".py",
   "mimetype": "text/x-python",
   "name": "python",
   "nbconvert_exporter": "python",
   "pygments_lexer": "ipython3",
   "version": "3.6.3"
  }
 },
 "nbformat": 4,
 "nbformat_minor": 2
}
